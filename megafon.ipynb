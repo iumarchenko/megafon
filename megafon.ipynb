{
 "cells": [
  {
   "cell_type": "code",
   "execution_count": 466,
   "metadata": {},
   "outputs": [],
   "source": [
    "import pandas as pd\n",
    "import numpy as np\n",
    "import matplotlib.pyplot as plt\n",
    "import seaborn as sns\n",
    "import scipy.stats as scs\n",
    "from sklearn.model_selection import train_test_split\n",
    "from imblearn.over_sampling import SMOTE\n",
    "from sklearn.preprocessing import MinMaxScaler\n",
    "from sklearn.preprocessing import StandardScaler\n",
    "from sklearn.preprocessing import RobustScaler\n",
    "from sklearn.preprocessing import OneHotEncoder\n",
    "from sklearn.decomposition import PCA\n",
    "from sklearn.metrics import precision_recall_fscore_support\n",
    "from sklearn.feature_selection import SelectKBest, SelectPercentile\n",
    "from sklearn.feature_selection import SelectFromModel\n",
    "from pandas.tseries.holiday import USFederalHolidayCalendar as calendar\n",
    "from sklearn.model_selection import KFold, GridSearchCV, RandomizedSearchCV\n",
    "from datetime import datetime, date, time\n",
    "from datetime import timedelta\n",
    "from sklearn.cluster import KMeans\n",
    "from sklearn.metrics import plot_confusion_matrix, classification_report,precision_score, recall_score, f1_score, precision_recall_curve, roc_curve, auc, log_loss, roc_auc_score, average_precision_score, confusion_matrix\n",
    "import xgboost as xgb, lightgbm as lgbm, catboost as catb\n",
    "import pickle\n",
    "import warnings\n",
    "warnings.filterwarnings('ignore')\n",
    "\n",
    "%matplotlib inline"
   ]
  },
  {
   "cell_type": "markdown",
   "metadata": {},
   "source": [
    "## Функции"
   ]
  },
  {
   "cell_type": "code",
   "execution_count": 25,
   "metadata": {},
   "outputs": [],
   "source": [
    "# группировка предложения и профиля\n",
    "# тут реализовано предположение, что нужно взять тот профиль который ближе по времени к предложению\n",
    "def make_group(train,features,test):\n",
    "    # добавили столбец с датой во все 3 датасета\n",
    "    train['date'] = train['buy_time'].apply(lambda x: date.fromtimestamp(x))\n",
    "    features['date'] = features['buy_time'].apply(lambda x: date.fromtimestamp(x))\n",
    "    test['date'] = test['buy_time'].apply(lambda x: date.fromtimestamp(x))\n",
    "\n",
    "    # добавили столбец с индексом во все 3 датасета, по нему будем потом группировать\n",
    "    features['idx'] = features.index\n",
    "    train['idx'] = train.index\n",
    "    test['idx'] = test.index\n",
    "\n",
    "    # я тут из профилей убираю столбцы [0-252] временно, иначе у меня комп не тянет группировки.\n",
    "    # т.е. я временно уменьшаю размер массива, потом после группировки приделаю столбцы обратно    \n",
    "    f1 = features.loc[:,['id','buy_time','date','idx']]\n",
    "    f1.columns = ['id_f','buy_time_f','date_f','idx_f']\n",
    "    f2 = features.drop(['id','buy_time','date'],axis=1)\n",
    "\n",
    "    # объединяю train/test и профили. в итоге, если на одного пользователя в train было 3 предложения и 2 профиля\n",
    "    # то после группировки будет 6 строк. после надо будет убрать лишние\n",
    "    # пример. до объединения было 3 предложения с индексами 1,2,3 и 2 профиля с индексами 1 и 2\n",
    "    # после объединения у нас будет 6 предложений (1-1,1-2,2-1,2-2,3-1,3-2)\n",
    "    train_merge = pd.merge(left=train,right=f1,left_on='id', right_on='id_f')\n",
    "    test_merge = pd.merge(left=test,right=f1,left_on='id', right_on='id_f')\n",
    "    \n",
    "    # добавляю столбец в котором хранится разница по времени между предложением и профилем\n",
    "    test_merge['date_dif'] = np.abs(test_merge['date']-test_merge['date_f']) \n",
    "    train_merge['date_dif'] = np.abs(train_merge['date']-train_merge['date_f'])\n",
    "    \n",
    "    # убираю лишние строки, которые образовались на предыдущем шаге\n",
    "    # если до группировки было 3 предложения, а после группировки стало 6, то надо опять вернуть 3\n",
    "    # тут мы группируем по индексам предложений и берем ту строку, в которой разница по дате минимальна\n",
    "    train_merge_cut = train_merge.loc[train_merge.groupby(['idx'])['date_dif'].idxmin()]\n",
    "    test_merge_cut = test_merge.loc[test_merge.groupby(['idx'])['date_dif'].idxmin()]\n",
    "    \n",
    "    # тут мы по индексу профиля примерживаем обратно строки [0-252]\n",
    "    train_res = pd.merge(left=train_merge_cut,right=f2,left_on='idx_f', right_on='idx')\n",
    "    test_res = pd.merge(left=test_merge_cut,right=f2,left_on='idx_f', right_on='idx')\n",
    "    \n",
    "    # тут мы удалили лишние столбцы\n",
    "    train_res = train_res.drop(['idx_y', 'idx_x', 'id_f', 'buy_time_f', 'date_f', 'idx_f', 'date_dif'],axis=1)\n",
    "    test_res = test_res.drop(['idx_y', 'idx_x', 'id_f', 'buy_time_f', 'date_f', 'idx_f', 'date_dif'],axis=1)\n",
    "    \n",
    "    return train_res, test_res"
   ]
  },
  {
   "cell_type": "code",
   "execution_count": 422,
   "metadata": {},
   "outputs": [],
   "source": [
    "# масштабирование и убирание дизбаланса классов через smote\n",
    "# после обработки соотношение классов 0.3-0.7\n",
    "def minmax_scale(x,y,x_res,f_numeric):\n",
    "    sc =  MinMaxScaler()\n",
    "    X_mm = sc.fit_transform(x.loc[:,list(f_numeric)])\n",
    "    X_mm1 = sc.fit_transform(x_res.loc[:,list(f_numeric)])\n",
    "    \n",
    "    x.loc[:,list(f_numeric)] = X_mm\n",
    "    x_res.loc[:,list(f_numeric)] = X_mm1\n",
    "\n",
    "    X_train, X_test, y_train, y_test = train_test_split(x, \n",
    "                                                        y, \n",
    "                                                        test_size=0.5,\n",
    "                                                        shuffle=True, \n",
    "                                                        stratify=y, \n",
    "                                                        random_state=100)\n",
    "\n",
    "    # Снизим дизбаланс классов\n",
    "    smote_on_1 = int(X_train.shape[0]*3/10) \n",
    "    X_train_balanced, y_train_balanced = SMOTE(random_state=42, sampling_strategy={1: smote_on_1}).\\\n",
    "                                            fit_sample(X_train, y_train)\n",
    "    return X_train_balanced, y_train_balanced, X_test, y_test,x_res"
   ]
  },
  {
   "cell_type": "code",
   "execution_count": 360,
   "metadata": {},
   "outputs": [],
   "source": [
    "# вывод classification_report\n",
    "def get_classification_report(y_train_true, y_train_pred, y_test_true=[], y_test_pred=[]):\n",
    "    print('TRAIN\\n\\n' + classification_report(y_train_true, y_train_pred))\n",
    "    print('\\n\\nCONFUSION MATRIX TRAIN\\n\\n')\n",
    "    print(pd.crosstab(y_train_true, y_train_pred))\n",
    "    print('\\n\\nTEST\\n\\n' + classification_report(y_test_true, y_test_pred))\n",
    "    print('\\n\\nCONFUSION MATRIX TEST\\n\\n')\n",
    "    print(pd.crosstab(y_test_true,y_test_pred))"
   ]
  },
  {
   "cell_type": "code",
   "execution_count": 435,
   "metadata": {},
   "outputs": [],
   "source": [
    "# вывод метрик \n",
    "def evaluation(y_true, y_pred, y_prob):\n",
    "    precision = precision_score(y_true=y_true, y_pred=y_pred)\n",
    "    recall = recall_score(y_true=y_true, y_pred=y_pred)\n",
    "    f1 = f1_score(y_true=y_true, y_pred=y_pred)\n",
    "    ll = log_loss(y_true=y_true, y_pred=y_prob)\n",
    "    roc_auc = roc_auc_score(y_true=y_true, y_score=y_prob)\n",
    "    print('Precision: {}'.format(precision))\n",
    "    print('Recall: {}'.format(recall))\n",
    "    print('F1: {}'.format(f1))\n",
    "    print('Log Loss: {}'.format(ll)) \n",
    "    print('ROC AUC: {}'.format(roc_auc)) "
   ]
  },
  {
   "cell_type": "code",
   "execution_count": 28,
   "metadata": {},
   "outputs": [],
   "source": [
    "# постройка графика важности столбцов для модели\n",
    "def plot_importance(importance, features,name, n):\n",
    "    fi = pd.DataFrame(list(zip(features, importance))).sort_values(by=1, ascending=False)\n",
    "    fi = fi.iloc[0:n,:]\n",
    "    plt.figure(figsize=(16,6))\n",
    "    plt.bar(range(fi.shape[0]), fi[1], align='center')\n",
    "    plt.xticks(range(fi.shape[0]), fi[0], rotation=90)\n",
    "    plt.title(name)\n",
    "    plt.show()\n",
    "    return fi"
   ]
  },
  {
   "cell_type": "code",
   "execution_count": 362,
   "metadata": {},
   "outputs": [],
   "source": [
    "# модель xgboost\n",
    "def xgboost_predict(X_train, y_train, X_test, y_test):\n",
    "    clf = xgb.XGBClassifier(max_depth=5,\n",
    "                            n_estimators=50,\n",
    "                            learning_rate=0.1,\n",
    "                            subsample=0.5,\n",
    "                            min_child_weight = 1,\n",
    "                            reg_alpha=0.5,\n",
    "                            reg_lambda=0.5,\n",
    "                            seed=42)\n",
    "    \n",
    "    clf.fit(X_train, y_train, eval_metric='aucpr', verbose=10)\n",
    "    y_train_pred = clf.predict(X_train)\n",
    "    y_test_pred = clf.predict(X_test)\n",
    "    y_test_pred_probas = clf.predict_proba(X_test)[:, 1]\n",
    "    get_classification_report(y_train, y_train_pred, y_test, y_test_pred)\n",
    "    return clf,y_train_pred,y_test_pred,y_test_pred_probas"
   ]
  },
  {
   "cell_type": "code",
   "execution_count": 363,
   "metadata": {},
   "outputs": [],
   "source": [
    "# модель lgbm\n",
    "def lgbm_predict(X_train, y_train, X_test, y_test):   \n",
    "    clf = lgbm.LGBMClassifier(random_state=21,\n",
    "                         num_leaves=8,\n",
    "                         max_depth=4,\n",
    "                         learning_rate = 0.1,\n",
    "                         n_estimators = 100\n",
    "                         )\n",
    "\n",
    "    clf.fit(X_train, y_train, eval_metric='aucpr', verbose=10)\n",
    "    y_train_pred = clf.predict(X_train)\n",
    "    y_test_pred = clf.predict(X_test)\n",
    "    y_test_pred_probas = clf.predict_proba(X_test)[:, 1]\n",
    "    get_classification_report(y_train, y_train_pred, y_test, y_test_pred)\n",
    "    \n",
    "    return clf"
   ]
  },
  {
   "cell_type": "code",
   "execution_count": 74,
   "metadata": {},
   "outputs": [],
   "source": [
    "# построили список всех праздников\n",
    "one_day = timedelta(days=1)\n",
    "cal = calendar()\n",
    "def get_holidays(XX):\n",
    "    # список всех предыдущих и следующих дней для праздников\n",
    "    prev_holiday = ([str( d.date() - one_day ) for d in cal.holidays()])\n",
    "    next_holiday = ([str( d.date() + one_day ) for d in cal.holidays()])\n",
    "    \n",
    "    # взяли все даты из train и test\n",
    "    dates = XX['date'].value_counts().index\n",
    "    \n",
    "    # у нас дат не так много, посмотрим на них руками\n",
    "    for i in dates:\n",
    "        if str(i) in prev_holiday:\n",
    "            print(\"prev_holiday\",i)\n",
    "        if str(i) in next_holiday:\n",
    "            print(\"next_holiday\",i)\n",
    "        if i in cal.holidays():\n",
    "            print(\"holidays\",i)"
   ]
  },
  {
   "cell_type": "code",
   "execution_count": 100,
   "metadata": {},
   "outputs": [],
   "source": [
    "# добавляем новые столбцы по датам\n",
    "def date_columns(XX):\n",
    "    # месяц\n",
    "    XX['month'] = XX['buy_time'].apply(lambda x: date.fromtimestamp(x).month)\n",
    "    # день\n",
    "    XX['day'] = XX['buy_time'].apply(lambda x: date.fromtimestamp(x).day)\n",
    "    # день года. \n",
    "    # день недели бесполезен - тут одни понедельники\n",
    "    XX['dayofyear'] = XX['buy_time'].apply(lambda x: pd.to_datetime(date.fromtimestamp(x)).dayofyear)\n",
    "    # неделя года\n",
    "    XX['weekofyear'] = XX['buy_time'].apply(lambda x: pd.to_datetime(date.fromtimestamp(x)).weekofyear)\n",
    "    \n",
    "    # день перед праздником\n",
    "    XX['is_prev_holiday'] = 0\n",
    "    XX.loc[XX['date']=='2018-12-31','is_prev_holiday'] = 1 \n",
    "    XX.loc[XX['date']=='2018-12-24','is_prev_holiday'] = 1\n",
    "\n",
    "    # отдельно пометим день перед новым годом\n",
    "    XX['is_prev_newyear'] = 0\n",
    "    XX.loc[XX['date']=='2018-12-31','is_prev_newyear'] = 1\n",
    "    \n",
    "    # собственно сам праздник\n",
    "    # праздники есть и в train и в test\n",
    "    XX['is_holiday'] = 0\n",
    "    XX.loc[XX['date']=='2018-10-08','is_holiday'] = 1\n",
    "    XX.loc[XX['date']=='2018-09-03','is_holiday'] = 1\n",
    "    XX.loc[XX['date']=='2018-11-12','is_holiday'] = 1\n",
    "    XX.loc[XX['date']=='2019-01-21','is_holiday'] = 1"
   ]
  },
  {
   "cell_type": "code",
   "execution_count": 34,
   "metadata": {},
   "outputs": [],
   "source": [
    "# новые группы по id услуги\n",
    "def group_columns(XX):\n",
    "    # разбили на более крупные группы по номерам предложения\n",
    "    XX['vas_id_gr_1'] = XX['vas_id'].map({1:1, 2:2, 4:3, 5:3, 6:3, 7:3, 8:3, 9:3}).astype(int)"
   ]
  },
  {
   "cell_type": "code",
   "execution_count": 35,
   "metadata": {},
   "outputs": [],
   "source": [
    "# определяем типы столбцов\n",
    "def columns_type(XX):\n",
    "    # все столбцы\n",
    "    X_nunique = XX.apply(lambda x: x.nunique(dropna=False))\n",
    "    f_all = set(X_nunique.index.tolist())\n",
    "    \n",
    "    # константы\n",
    "    f_const = set(X_nunique[X_nunique == 1].index.tolist())\n",
    "    f_other = f_all - f_const\n",
    "    \n",
    "    # бинарные - те, у которых 2 значения\n",
    "    f_binary = set(X_nunique.loc[f_other][X_nunique.loc[f_other] ==2 ].index.tolist())\n",
    "    f_other = f_other - f_binary\n",
    "    \n",
    "    # категориальные, те, у окторых не больше 10 уникальных значений\n",
    "    f_categorical = set(X_nunique.loc[f_other][X_nunique.loc[f_other] <= 10].index.tolist())\n",
    "    f_other = f_other - f_categorical\n",
    "    \n",
    "    # строковые - у меня это даты\n",
    "    f_str = set(x[1] for x in list(filter(lambda x: x[0], [[isinstance(XX.loc[0:0,c][0], str),c] for c in XX.columns])))\n",
    "    f_other = f_other - f_str\n",
    "    \n",
    "    # числовые\n",
    "    x_num = XX.loc[:,list(f_other)]\n",
    "    f_numeric = (x_num.fillna(0).astype(int).sum() - x_num.fillna(0).sum()).abs()\n",
    "    f_numeric = set(f_numeric[f_numeric > 0].index.tolist())\n",
    "    \n",
    "    # все остальные и удалим id\n",
    "    f_other = f_other - f_numeric    \n",
    "    f_other.remove('id')\n",
    "    \n",
    "    return f_const, f_binary, f_categorical, f_str, f_numeric, f_other"
   ]
  },
  {
   "cell_type": "code",
   "execution_count": 36,
   "metadata": {},
   "outputs": [],
   "source": [
    "# обработка столбцов - константы и бинарные\n",
    "def prepare_columns_1(XX, f_const, f_binary, f_categorical):\n",
    "    # удалили константы\n",
    "    XX.drop(list(f_const),axis=1,inplace=True)\n",
    "    \n",
    "    # бинарные привели к 0 и 1\n",
    "    for i in list(f_binary):\n",
    "        XX.loc[(XX[str(i)]>0),str(i)] = 1\n",
    "        XX.loc[(XX[str(i)]<=0),str(i)] = 0"
   ]
  },
  {
   "cell_type": "code",
   "execution_count": 37,
   "metadata": {},
   "outputs": [],
   "source": [
    "# обработка столбцов - dummy-кодирование для категориальных переменных\n",
    "def prepare_columns_2(XX, f_categorical):\n",
    "    enc = OneHotEncoder(handle_unknown='ignore')\n",
    "    enc_df = pd.DataFrame(enc.fit_transform(XX[list(f_categorical)]).toarray())\n",
    "    \n",
    "    cols = ['ohe_'+str(x) for x in enc_df.columns] # задали имена столбцов с префиксами\n",
    "    enc_df.columns = cols # задали имена столбцов с префиксами\n",
    "    return enc_df"
   ]
  },
  {
   "cell_type": "code",
   "execution_count": 38,
   "metadata": {},
   "outputs": [],
   "source": [
    "# PCA-преобразование\n",
    "def make_pca_25(XX,f_numeric):\n",
    "    pca = PCA(n_components=25, svd_solver='full')\n",
    "    Xpca25=pca.fit_transform(XX.loc[:, list(f_numeric)])\n",
    "    XP25 = pd.DataFrame(data=Xpca25)\n",
    "    \n",
    "    cols = ['pca_'+str(x) for x in XP25.columns] # задали имена столбцов с префиксами\n",
    "    XP25.columns = cols # задали имена столбцов с префиксами\n",
    "    return XP25"
   ]
  },
  {
   "cell_type": "code",
   "execution_count": 39,
   "metadata": {},
   "outputs": [],
   "source": [
    "# добавили к преобразованным PCA столбцам остальные столбцы\n",
    "def update_pca(XX,XP,f_binary,f_categorical,f_other, f_dummy):\n",
    "    cols = f_binary.copy() # бинарные\n",
    "    cols.update(f_categorical) # категориальные\n",
    "    cols.update(f_other) # остальные\n",
    "    cols.update(f_dummy) # dummy\n",
    "    XP = XP.join(XX.loc[:,list(cols)]) # собственно объединили\n",
    "    return XP"
   ]
  },
  {
   "cell_type": "code",
   "execution_count": 123,
   "metadata": {},
   "outputs": [],
   "source": [
    "def get_proposal_count(XX):\n",
    "    # тут получили все id пользователей для которых было несколько предложени\n",
    "    b = pd.DataFrame(XX['id'].value_counts()) # тут получили все id\n",
    "    b = b.loc[b['id']>1] # тут отобрали те, у которых количество больше одного. \n",
    "    return b"
   ]
  },
  {
   "cell_type": "code",
   "execution_count": 124,
   "metadata": {},
   "outputs": [],
   "source": [
    "def hist_columns_1(b,XX):\n",
    "    # это количество предложений. т.е. история по всем предложениям.\n",
    "    # если есть 3 предложения, т.е. в таблице 3 строки и в каждой будет храниться история про другие предложения. \n",
    "    # т.е. если РАЗНЫХ предложений 3, то в каждой (из трех) строке во всех трех столбцах будет стоять 1.\n",
    "    # если 2 одинаковых предложения, то в каждой строке в соответствующем столбце будет стоять 2\n",
    "    XX['vas_id_1'] = 0 # для каждой услуги свой столбец\n",
    "    XX['vas_id_2'] = 0\n",
    "    XX['vas_id_4'] = 0\n",
    "    XX['vas_id_5'] = 0\n",
    "    XX['vas_id_6'] = 0\n",
    "    XX['vas_id_7'] = 0\n",
    "    XX['vas_id_8'] = 0\n",
    "    XX['vas_id_9'] = 0\n",
    "\n",
    "    \n",
    "    # цикл у нас только по тем пользователям у которых больше одного предложения\n",
    "    # таких пользователей мы отобрали в предыдущей функции get_proposal_count\n",
    "    for i in b.index:\n",
    "        # в целом конструкция аналогична XX.loc[XX['id']==i].groupby(['vas_id'])['vas_id'].count()\n",
    "        a = XX.loc[XX['id']==i,'vas_id'].value_counts()\n",
    "        # a = XX.loc[XX['id']==i].groupby(['vas_id'])['vas_id'].count()\n",
    "        for k in a.index:\n",
    "            XX.loc[XX['id']==i,'vas_id_'+str(int(k))] = a[k]"
   ]
  },
  {
   "cell_type": "code",
   "execution_count": 125,
   "metadata": {},
   "outputs": [],
   "source": [
    "def hist_columns_2(b,XX):\n",
    "    #это порядковый номер для одинаковых предложений для одного пользователя\n",
    "    # то есть если одному пользователю 2 раза предлагали одну и ту же услугу, \n",
    "    # то первая по времени услуга будет с номером 1, а вторая -2\n",
    "    XX['vas_id_ord'] = 0\n",
    "\n",
    "    # цикл у нас только по тем пользователям у которых больше одного предложения\n",
    "    # таких пользователей мы отобрали в предыдущей функции get_proposal_count   \n",
    "    for i in b.index:\n",
    "        # тут получаем историю предложений для конкретного пользователя\n",
    "        # историю мы сформировали ранее в функции hist_columns_1\n",
    "        a = XX.loc[(XX['id']==i),['vas_id_1', 'vas_id_2', 'vas_id_4', 'vas_id_5', 'vas_id_6', 'vas_id_7', 'vas_id_8', 'vas_id_9']]\n",
    "        # это мы получили номер столбца, он же номер услуги (vas_id: 1-9), в котором стоит больше 1, \n",
    "        # т.е. предложение делалось клиенту более одного раза\n",
    "        # т.е. если предложений 3, то в каждой строке хранится полная история и мы бурум первую строку и те столбцы где >1\n",
    "        aa = a.iloc[0][a.iloc[0].values>1]\n",
    "        # если есть такие столбцы, т.е. если пользователю предлагали одну услугу более одного раза\n",
    "        # тут мы исходим из того, что ни одну услугу не предлагали 3 раза одному клиенту, максимум 2\n",
    "        if len(aa) > 0:\n",
    "            j = aa.index[0][7:] # это мы взяли номер такой услуги, выдрали из названия столбца\n",
    "            # отсортировали записи о предложении услуги по возрастанию даты\n",
    "            a = XX.loc[(XX['id']==i)&(XX['vas_id']==float(j))].sort_values(by='buy_time', ascending=True)\n",
    "            # для первой поставили номер 1 для второй номер 2\n",
    "            for k in range(a.shape[0]):\n",
    "                XX.loc[a.index[k],'vas_id_ord'] = k+1 "
   ]
  },
  {
   "cell_type": "code",
   "execution_count": 126,
   "metadata": {},
   "outputs": [],
   "source": [
    "def hist_columns_3(b,XX):\n",
    "    # это разница по датам для одинаковых предложений\n",
    "    # для первого предложения всега 0, для второго +разница в днях+1 и т.д.\n",
    "    # если предложения в один день, то между ними стоит 1 (разница в днях 0+1). \n",
    "    # если оставить 0, то тогда не будет разницы между первыми и повторными предложениями\n",
    "    XX['vas_id_date_dif_1'] = 0\n",
    "\n",
    "    # цикл у нас только по тем пользователям у которых больше одного предложения\n",
    "    # таких пользователей мы отобрали в предыдущей функции get_proposal_count       \n",
    "    for i in b.index:\n",
    "        # тут получаем историю предложений для конкретного пользователя\n",
    "        # историю мы сформировали ранее в функции hist_columns_1\n",
    "        a = XX.loc[(XX['id']==i),['vas_id_1', 'vas_id_2', 'vas_id_4', 'vas_id_5', 'vas_id_6', 'vas_id_7', 'vas_id_8', 'vas_id_9']]\n",
    "        # это мы получили номер столбца, он же номер услуги (vas_id: 1-9), в котором стоит больше 1, \n",
    "        # т.е. предложение делалось клиенту более одного раза\n",
    "        # т.е. если предложений 3, то в каждой строке хранится полная история и мы бурум первую строку и те столбцы где >1\n",
    "        aa = a.iloc[0][a.iloc[0].values>1]\n",
    "        # если есть такие столбцы, т.е. если пользователю предлагали одну услугу более одного раза\n",
    "        # тут мы исходим из того, что ни одну услугу не предлагали 3 раза одному клиенту, максимум 2\n",
    "        if len(aa) > 0:\n",
    "            j = aa.index[0][7:] # это мы взяли номер такой услуги, выдрали из названия столбца\n",
    "            # эту услугу предлагали 2 раза, значит у нас есть столбец в котором стоит порядковый номер для такой услуги\n",
    "            # мы его сделали ранее в функции hist_columns_2\n",
    "            # поэтому первая услуга та, у которой в этом столбце 1, вторая - та, у которой 2.\n",
    "            # находим разность по датам для этих услуг\n",
    "            d1 = XX.loc[(XX['id']==i)&(XX['vas_id']==float(j))&(XX['vas_id_ord']==1),'date']\n",
    "            d2 = XX.loc[(XX['id']==i)&(XX['vas_id']==float(j))&(XX['vas_id_ord']==2),'date']\n",
    "            XX.loc[(XX['id']==i)&(XX['vas_id']==float(j))&(XX['vas_id_ord']==2),'vas_id_date_dif_1'] = (pd.to_datetime(d2.values[0])-pd.to_datetime(d1.values[0])).days + 1\n"
   ]
  },
  {
   "cell_type": "code",
   "execution_count": 127,
   "metadata": {},
   "outputs": [],
   "source": [
    "def hist_columns_4(b,XX):\n",
    "    # разница между всеми предложениями для одного клиента\n",
    "    # для первого предложения всега 0, для второго +разница в днях+1 и т.д.\n",
    "    # если предложения в один деньто между ними стоит 1 (разница в днях 0+1). \n",
    "    # если оставить 0, то тогда не будет разницы между первыми и повторными предложениями\n",
    "    XX['vas_id_date_dif_2'] = 0\n",
    "    \n",
    "    # цикл у нас только по тем пользователям у которых больше одного предложения\n",
    "    # таких пользователей мы отобрали в предыдущей функции get_proposal_count   \n",
    "    for i in b.index:\n",
    "        # получили все предложения пользователя и отсортировали все предложения по дате\n",
    "        a = XX.loc[(XX['id']==i)].sort_values(by='buy_time', ascending=True)\n",
    "        # идем в цикле по предложениям начиная с 1го, не с 0го.\n",
    "        for k in range(1,a.shape[0]):\n",
    "            d1 = XX.loc[a.index[k-1],'date'] # предыдущее предложение\n",
    "            d2 = XX.loc[a.index[k],'date'] # первое предложение\n",
    "            XX.loc[a.index[k],'vas_id_date_dif_2'] = (pd.to_datetime(d2)-pd.to_datetime(d1)).days #  + 1 этого не было, только здесь добавила\n",
    "            # если предложений 3 и 2ое и 3е дали в один день (одновременно), \n",
    "            # то у них разница с предыдущим предложением будет одинаковая\n",
    "            # т.е. тут предыдущим предложением считаем первое предложение\n",
    "            if (k==2) & ((pd.to_datetime(d2)-pd.to_datetime(d1)).days==0):\n",
    "                XX.loc[a.index[k],'vas_id_date_dif_2'] = XX.loc[a.index[k-1],'vas_id_date_dif_2']"
   ]
  },
  {
   "cell_type": "code",
   "execution_count": 45,
   "metadata": {},
   "outputs": [],
   "source": [
    "# логарифмирование строго для числовых столбцов\n",
    "# так как значения чаще всего меньше нуля, мы находим минимальное и сдвигаем все значения на минимальное +0.1\n",
    "# таким образом значения всегда будут положительные\n",
    "# т.е. нашли минимальное. если оно больше нудя, значит весь столбец больше нуля и тогда ничего не сдвигаем\n",
    "# если же минимальное меньше нуля, то увеличиваем (удаляем) его на 0.1, и затем из каждого значения в вычитаем это минимальное\n",
    "# вычитаем, потому что оно отрицательное, т.е. --=+. если бы прибавляли, то оно бы вычиталось.\n",
    "def prepare_columns_4(XX, f_numeric):\n",
    "    num = []\n",
    "    for i in f_numeric:\n",
    "        c = np.min(XX[i])\n",
    "        if c > 0:\n",
    "            c = 0\n",
    "        else:\n",
    "            c -= 0.1\n",
    "        XX[i] = np.log(XX[i]-c)"
   ]
  },
  {
   "cell_type": "code",
   "execution_count": 162,
   "metadata": {},
   "outputs": [],
   "source": [
    "# dummy-кодирование для столбцов kmeans\n",
    "def prepare_kmeans(XP25):\n",
    "    enc = OneHotEncoder(handle_unknown='ignore')\n",
    "    enc_df = pd.DataFrame(enc.fit_transform(XP25.loc[:,['km15','km7','km3']]).toarray())\n",
    "    cols = ['km_'+str(x) for x in enc_df.columns] # новые названия столбцов с индексами\n",
    "    enc_df.columns = cols\n",
    "    \n",
    "    return enc_df"
   ]
  },
  {
   "cell_type": "markdown",
   "metadata": {},
   "source": [
    "## Данные"
   ]
  },
  {
   "cell_type": "code",
   "execution_count": 4,
   "metadata": {},
   "outputs": [],
   "source": [
    "data = pd.read_csv('features.zip', compression='zip', sep='\\t', index_col=[0])"
   ]
  },
  {
   "cell_type": "code",
   "execution_count": 5,
   "metadata": {},
   "outputs": [
    {
     "data": {
      "text/plain": [
       "(4512528, 255)"
      ]
     },
     "execution_count": 5,
     "metadata": {},
     "output_type": "execute_result"
    }
   ],
   "source": [
    "data.shape"
   ]
  },
  {
   "cell_type": "code",
   "execution_count": 46,
   "metadata": {},
   "outputs": [
    {
     "data": {
      "text/html": [
       "<div>\n",
       "<style scoped>\n",
       "    .dataframe tbody tr th:only-of-type {\n",
       "        vertical-align: middle;\n",
       "    }\n",
       "\n",
       "    .dataframe tbody tr th {\n",
       "        vertical-align: top;\n",
       "    }\n",
       "\n",
       "    .dataframe thead th {\n",
       "        text-align: right;\n",
       "    }\n",
       "</style>\n",
       "<table border=\"1\" class=\"dataframe\">\n",
       "  <thead>\n",
       "    <tr style=\"text-align: right;\">\n",
       "      <th></th>\n",
       "      <th>id</th>\n",
       "      <th>vas_id</th>\n",
       "      <th>buy_time</th>\n",
       "      <th>target</th>\n",
       "    </tr>\n",
       "  </thead>\n",
       "  <tbody>\n",
       "    <tr>\n",
       "      <th>0</th>\n",
       "      <td>540968</td>\n",
       "      <td>8.0</td>\n",
       "      <td>1537131600</td>\n",
       "      <td>0.0</td>\n",
       "    </tr>\n",
       "    <tr>\n",
       "      <th>1</th>\n",
       "      <td>1454121</td>\n",
       "      <td>4.0</td>\n",
       "      <td>1531688400</td>\n",
       "      <td>0.0</td>\n",
       "    </tr>\n",
       "    <tr>\n",
       "      <th>2</th>\n",
       "      <td>2458816</td>\n",
       "      <td>1.0</td>\n",
       "      <td>1534107600</td>\n",
       "      <td>0.0</td>\n",
       "    </tr>\n",
       "    <tr>\n",
       "      <th>3</th>\n",
       "      <td>3535012</td>\n",
       "      <td>5.0</td>\n",
       "      <td>1535922000</td>\n",
       "      <td>0.0</td>\n",
       "    </tr>\n",
       "    <tr>\n",
       "      <th>4</th>\n",
       "      <td>1693214</td>\n",
       "      <td>1.0</td>\n",
       "      <td>1535922000</td>\n",
       "      <td>0.0</td>\n",
       "    </tr>\n",
       "    <tr>\n",
       "      <th>5</th>\n",
       "      <td>3173665</td>\n",
       "      <td>8.0</td>\n",
       "      <td>1532898000</td>\n",
       "      <td>0.0</td>\n",
       "    </tr>\n",
       "    <tr>\n",
       "      <th>6</th>\n",
       "      <td>2611143</td>\n",
       "      <td>2.0</td>\n",
       "      <td>1544994000</td>\n",
       "      <td>0.0</td>\n",
       "    </tr>\n",
       "    <tr>\n",
       "      <th>7</th>\n",
       "      <td>3577737</td>\n",
       "      <td>5.0</td>\n",
       "      <td>1545598800</td>\n",
       "      <td>0.0</td>\n",
       "    </tr>\n",
       "    <tr>\n",
       "      <th>8</th>\n",
       "      <td>2000856</td>\n",
       "      <td>1.0</td>\n",
       "      <td>1534712400</td>\n",
       "      <td>0.0</td>\n",
       "    </tr>\n",
       "    <tr>\n",
       "      <th>9</th>\n",
       "      <td>1232876</td>\n",
       "      <td>2.0</td>\n",
       "      <td>1544994000</td>\n",
       "      <td>0.0</td>\n",
       "    </tr>\n",
       "  </tbody>\n",
       "</table>\n",
       "</div>"
      ],
      "text/plain": [
       "        id  vas_id    buy_time  target\n",
       "0   540968     8.0  1537131600     0.0\n",
       "1  1454121     4.0  1531688400     0.0\n",
       "2  2458816     1.0  1534107600     0.0\n",
       "3  3535012     5.0  1535922000     0.0\n",
       "4  1693214     1.0  1535922000     0.0\n",
       "5  3173665     8.0  1532898000     0.0\n",
       "6  2611143     2.0  1544994000     0.0\n",
       "7  3577737     5.0  1545598800     0.0\n",
       "8  2000856     1.0  1534712400     0.0\n",
       "9  1232876     2.0  1544994000     0.0"
      ]
     },
     "execution_count": 46,
     "metadata": {},
     "output_type": "execute_result"
    }
   ],
   "source": [
    "train = pd.read_csv('data_train.csv', index_col=[0])\n",
    "train.head(10)"
   ]
  },
  {
   "cell_type": "code",
   "execution_count": 47,
   "metadata": {},
   "outputs": [
    {
     "data": {
      "text/html": [
       "<div>\n",
       "<style scoped>\n",
       "    .dataframe tbody tr th:only-of-type {\n",
       "        vertical-align: middle;\n",
       "    }\n",
       "\n",
       "    .dataframe tbody tr th {\n",
       "        vertical-align: top;\n",
       "    }\n",
       "\n",
       "    .dataframe thead th {\n",
       "        text-align: right;\n",
       "    }\n",
       "</style>\n",
       "<table border=\"1\" class=\"dataframe\">\n",
       "  <thead>\n",
       "    <tr style=\"text-align: right;\">\n",
       "      <th></th>\n",
       "      <th>id</th>\n",
       "      <th>vas_id</th>\n",
       "      <th>buy_time</th>\n",
       "    </tr>\n",
       "  </thead>\n",
       "  <tbody>\n",
       "    <tr>\n",
       "      <th>0</th>\n",
       "      <td>3130519</td>\n",
       "      <td>2.0</td>\n",
       "      <td>1548018000</td>\n",
       "    </tr>\n",
       "    <tr>\n",
       "      <th>1</th>\n",
       "      <td>2000860</td>\n",
       "      <td>4.0</td>\n",
       "      <td>1548018000</td>\n",
       "    </tr>\n",
       "    <tr>\n",
       "      <th>2</th>\n",
       "      <td>1099444</td>\n",
       "      <td>2.0</td>\n",
       "      <td>1546808400</td>\n",
       "    </tr>\n",
       "    <tr>\n",
       "      <th>3</th>\n",
       "      <td>1343255</td>\n",
       "      <td>5.0</td>\n",
       "      <td>1547413200</td>\n",
       "    </tr>\n",
       "    <tr>\n",
       "      <th>4</th>\n",
       "      <td>1277040</td>\n",
       "      <td>2.0</td>\n",
       "      <td>1546808400</td>\n",
       "    </tr>\n",
       "    <tr>\n",
       "      <th>5</th>\n",
       "      <td>720364</td>\n",
       "      <td>2.0</td>\n",
       "      <td>1547413200</td>\n",
       "    </tr>\n",
       "    <tr>\n",
       "      <th>6</th>\n",
       "      <td>3195325</td>\n",
       "      <td>6.0</td>\n",
       "      <td>1548018000</td>\n",
       "    </tr>\n",
       "    <tr>\n",
       "      <th>7</th>\n",
       "      <td>3324464</td>\n",
       "      <td>1.0</td>\n",
       "      <td>1547413200</td>\n",
       "    </tr>\n",
       "    <tr>\n",
       "      <th>8</th>\n",
       "      <td>1935449</td>\n",
       "      <td>1.0</td>\n",
       "      <td>1547413200</td>\n",
       "    </tr>\n",
       "    <tr>\n",
       "      <th>9</th>\n",
       "      <td>3726752</td>\n",
       "      <td>1.0</td>\n",
       "      <td>1546808400</td>\n",
       "    </tr>\n",
       "  </tbody>\n",
       "</table>\n",
       "</div>"
      ],
      "text/plain": [
       "        id  vas_id    buy_time\n",
       "0  3130519     2.0  1548018000\n",
       "1  2000860     4.0  1548018000\n",
       "2  1099444     2.0  1546808400\n",
       "3  1343255     5.0  1547413200\n",
       "4  1277040     2.0  1546808400\n",
       "5   720364     2.0  1547413200\n",
       "6  3195325     6.0  1548018000\n",
       "7  3324464     1.0  1547413200\n",
       "8  1935449     1.0  1547413200\n",
       "9  3726752     1.0  1546808400"
      ]
     },
     "execution_count": 47,
     "metadata": {},
     "output_type": "execute_result"
    }
   ],
   "source": [
    "test = pd.read_csv('data_test.csv', index_col=[0])\n",
    "test.head(10)"
   ]
  },
  {
   "cell_type": "code",
   "execution_count": 9,
   "metadata": {},
   "outputs": [
    {
     "data": {
      "text/plain": [
       "((902389, 255), (831653, 4), (71231, 3))"
      ]
     },
     "execution_count": 9,
     "metadata": {},
     "output_type": "execute_result"
    }
   ],
   "source": [
    "# тут мы берем только профили тех пользователей, которые есть в train или test\n",
    "# и таких всего 902389! а, не 4 млн. \n",
    "features = data.loc[(data['id'].isin(train['id'].values))|((data['id'].isin(test['id'].values)))]\n",
    "features.shape, train.shape,test.shape"
   ]
  },
  {
   "cell_type": "code",
   "execution_count": 54,
   "metadata": {},
   "outputs": [
    {
     "data": {
      "text/html": [
       "<div>\n",
       "<style scoped>\n",
       "    .dataframe tbody tr th:only-of-type {\n",
       "        vertical-align: middle;\n",
       "    }\n",
       "\n",
       "    .dataframe tbody tr th {\n",
       "        vertical-align: top;\n",
       "    }\n",
       "\n",
       "    .dataframe thead th {\n",
       "        text-align: right;\n",
       "    }\n",
       "</style>\n",
       "<table border=\"1\" class=\"dataframe\">\n",
       "  <thead>\n",
       "    <tr style=\"text-align: right;\">\n",
       "      <th></th>\n",
       "      <th>id</th>\n",
       "      <th>buy_time</th>\n",
       "      <th>0</th>\n",
       "      <th>1</th>\n",
       "      <th>2</th>\n",
       "      <th>3</th>\n",
       "      <th>4</th>\n",
       "      <th>5</th>\n",
       "      <th>6</th>\n",
       "      <th>7</th>\n",
       "      <th>...</th>\n",
       "      <th>243</th>\n",
       "      <th>244</th>\n",
       "      <th>245</th>\n",
       "      <th>246</th>\n",
       "      <th>247</th>\n",
       "      <th>248</th>\n",
       "      <th>249</th>\n",
       "      <th>250</th>\n",
       "      <th>251</th>\n",
       "      <th>252</th>\n",
       "    </tr>\n",
       "  </thead>\n",
       "  <tbody>\n",
       "    <tr>\n",
       "      <th>0</th>\n",
       "      <td>2046132</td>\n",
       "      <td>1534712400</td>\n",
       "      <td>300.820029</td>\n",
       "      <td>1599.480888</td>\n",
       "      <td>286.879214</td>\n",
       "      <td>1585.013202</td>\n",
       "      <td>281.461754</td>\n",
       "      <td>1563.90821</td>\n",
       "      <td>-16.08618</td>\n",
       "      <td>654.013903</td>\n",
       "      <td>...</td>\n",
       "      <td>-977.373846</td>\n",
       "      <td>-613.770792</td>\n",
       "      <td>-25.996269</td>\n",
       "      <td>-35.630448</td>\n",
       "      <td>-295.747724</td>\n",
       "      <td>-17.832889</td>\n",
       "      <td>-0.694428</td>\n",
       "      <td>-4.175933</td>\n",
       "      <td>-0.45614</td>\n",
       "      <td>0.0</td>\n",
       "    </tr>\n",
       "    <tr>\n",
       "      <th>1</th>\n",
       "      <td>2050810</td>\n",
       "      <td>1540760400</td>\n",
       "      <td>-86.209971</td>\n",
       "      <td>91.820888</td>\n",
       "      <td>-84.480786</td>\n",
       "      <td>110.333202</td>\n",
       "      <td>-89.898246</td>\n",
       "      <td>89.22821</td>\n",
       "      <td>-16.08618</td>\n",
       "      <td>-65.076097</td>\n",
       "      <td>...</td>\n",
       "      <td>-977.373846</td>\n",
       "      <td>-613.770792</td>\n",
       "      <td>-23.996269</td>\n",
       "      <td>190.369552</td>\n",
       "      <td>-286.747724</td>\n",
       "      <td>-25.832889</td>\n",
       "      <td>-0.694428</td>\n",
       "      <td>-12.175933</td>\n",
       "      <td>-0.45614</td>\n",
       "      <td>0.0</td>\n",
       "    </tr>\n",
       "    <tr>\n",
       "      <th>2</th>\n",
       "      <td>2070757</td>\n",
       "      <td>1540760400</td>\n",
       "      <td>-96.799971</td>\n",
       "      <td>-408.179112</td>\n",
       "      <td>-110.740786</td>\n",
       "      <td>-460.786798</td>\n",
       "      <td>-114.038246</td>\n",
       "      <td>-479.77179</td>\n",
       "      <td>-16.08618</td>\n",
       "      <td>-65.076097</td>\n",
       "      <td>...</td>\n",
       "      <td>-925.373846</td>\n",
       "      <td>-561.770792</td>\n",
       "      <td>-21.996269</td>\n",
       "      <td>-37.630448</td>\n",
       "      <td>-151.747724</td>\n",
       "      <td>-24.832889</td>\n",
       "      <td>0.305572</td>\n",
       "      <td>-12.175933</td>\n",
       "      <td>-0.45614</td>\n",
       "      <td>1.0</td>\n",
       "    </tr>\n",
       "    <tr>\n",
       "      <th>3</th>\n",
       "      <td>2071522</td>\n",
       "      <td>1544994000</td>\n",
       "      <td>-94.939971</td>\n",
       "      <td>-363.699112</td>\n",
       "      <td>-108.880786</td>\n",
       "      <td>-411.226798</td>\n",
       "      <td>-114.298246</td>\n",
       "      <td>-432.33179</td>\n",
       "      <td>-16.08618</td>\n",
       "      <td>-65.076097</td>\n",
       "      <td>...</td>\n",
       "      <td>-977.373846</td>\n",
       "      <td>-613.770792</td>\n",
       "      <td>-25.996269</td>\n",
       "      <td>-37.630448</td>\n",
       "      <td>-306.747724</td>\n",
       "      <td>-25.832889</td>\n",
       "      <td>-0.694428</td>\n",
       "      <td>-12.175933</td>\n",
       "      <td>-0.45614</td>\n",
       "      <td>0.0</td>\n",
       "    </tr>\n",
       "    <tr>\n",
       "      <th>4</th>\n",
       "      <td>2075318</td>\n",
       "      <td>1533502800</td>\n",
       "      <td>-75.639971</td>\n",
       "      <td>669.690888</td>\n",
       "      <td>-89.580786</td>\n",
       "      <td>732.343202</td>\n",
       "      <td>-94.998246</td>\n",
       "      <td>736.65821</td>\n",
       "      <td>-16.08618</td>\n",
       "      <td>782.383903</td>\n",
       "      <td>...</td>\n",
       "      <td>-501.373846</td>\n",
       "      <td>-242.770792</td>\n",
       "      <td>-25.996269</td>\n",
       "      <td>-37.630448</td>\n",
       "      <td>-167.747724</td>\n",
       "      <td>-14.832889</td>\n",
       "      <td>2.305572</td>\n",
       "      <td>-4.175933</td>\n",
       "      <td>-0.45614</td>\n",
       "      <td>0.0</td>\n",
       "    </tr>\n",
       "  </tbody>\n",
       "</table>\n",
       "<p>5 rows × 255 columns</p>\n",
       "</div>"
      ],
      "text/plain": [
       "        id    buy_time           0            1           2            3  \\\n",
       "0  2046132  1534712400  300.820029  1599.480888  286.879214  1585.013202   \n",
       "1  2050810  1540760400  -86.209971    91.820888  -84.480786   110.333202   \n",
       "2  2070757  1540760400  -96.799971  -408.179112 -110.740786  -460.786798   \n",
       "3  2071522  1544994000  -94.939971  -363.699112 -108.880786  -411.226798   \n",
       "4  2075318  1533502800  -75.639971   669.690888  -89.580786   732.343202   \n",
       "\n",
       "            4           5         6           7  ...         243         244  \\\n",
       "0  281.461754  1563.90821 -16.08618  654.013903  ... -977.373846 -613.770792   \n",
       "1  -89.898246    89.22821 -16.08618  -65.076097  ... -977.373846 -613.770792   \n",
       "2 -114.038246  -479.77179 -16.08618  -65.076097  ... -925.373846 -561.770792   \n",
       "3 -114.298246  -432.33179 -16.08618  -65.076097  ... -977.373846 -613.770792   \n",
       "4  -94.998246   736.65821 -16.08618  782.383903  ... -501.373846 -242.770792   \n",
       "\n",
       "         245         246         247        248       249        250      251  \\\n",
       "0 -25.996269  -35.630448 -295.747724 -17.832889 -0.694428  -4.175933 -0.45614   \n",
       "1 -23.996269  190.369552 -286.747724 -25.832889 -0.694428 -12.175933 -0.45614   \n",
       "2 -21.996269  -37.630448 -151.747724 -24.832889  0.305572 -12.175933 -0.45614   \n",
       "3 -25.996269  -37.630448 -306.747724 -25.832889 -0.694428 -12.175933 -0.45614   \n",
       "4 -25.996269  -37.630448 -167.747724 -14.832889  2.305572  -4.175933 -0.45614   \n",
       "\n",
       "   252  \n",
       "0  0.0  \n",
       "1  0.0  \n",
       "2  1.0  \n",
       "3  0.0  \n",
       "4  0.0  \n",
       "\n",
       "[5 rows x 255 columns]"
      ]
     },
     "execution_count": 54,
     "metadata": {},
     "output_type": "execute_result"
    }
   ],
   "source": [
    "features.head()"
   ]
  },
  {
   "cell_type": "code",
   "execution_count": 55,
   "metadata": {},
   "outputs": [],
   "source": [
    "# группировка предложения и профиля\n",
    "# тут реализовано предположение, что нужно взять тот профиль который ближе по времени к предложению\n",
    "train_res, test_res = make_group(train,features,test)"
   ]
  },
  {
   "cell_type": "code",
   "execution_count": 56,
   "metadata": {},
   "outputs": [],
   "source": [
    "# перестроили индекс, а то он не по порядку где-то был.\n",
    "train_res = train_res.reset_index(drop=True)\n",
    "test_res = test_res.reset_index(drop=True)"
   ]
  },
  {
   "cell_type": "code",
   "execution_count": 87,
   "metadata": {},
   "outputs": [],
   "source": [
    "train_res['date'] = train_res['date'].astype(str)\n",
    "test_res['date'] = test_res['date'].astype(str)"
   ]
  },
  {
   "cell_type": "code",
   "execution_count": 94,
   "metadata": {},
   "outputs": [],
   "source": [
    "XX = train_res.drop('target', axis=1)\n",
    "yy = train_res['target']"
   ]
  },
  {
   "cell_type": "code",
   "execution_count": 80,
   "metadata": {},
   "outputs": [
    {
     "name": "stdout",
     "output_type": "stream",
     "text": [
      "prev_holiday 2018-12-24\n",
      "prev_holiday 2018-12-31\n",
      "holidays 2018-09-03\n",
      "holidays 2018-10-08\n",
      "holidays 2018-11-12\n"
     ]
    }
   ],
   "source": [
    "get_holidays(XX)"
   ]
  },
  {
   "cell_type": "code",
   "execution_count": 90,
   "metadata": {},
   "outputs": [
    {
     "name": "stdout",
     "output_type": "stream",
     "text": [
      "holidays 2019-01-21\n"
     ]
    }
   ],
   "source": [
    "get_holidays(test_res)"
   ]
  },
  {
   "cell_type": "code",
   "execution_count": 102,
   "metadata": {},
   "outputs": [],
   "source": [
    "# добавляем новые столбцы по датам\n",
    "date_columns(XX)\n",
    "date_columns(test_res)"
   ]
  },
  {
   "cell_type": "code",
   "execution_count": 109,
   "metadata": {},
   "outputs": [],
   "source": [
    "# новые группы по id услуги\n",
    "group_columns(XX)\n",
    "group_columns(test_res)"
   ]
  },
  {
   "cell_type": "code",
   "execution_count": 113,
   "metadata": {},
   "outputs": [],
   "source": [
    "# тут получили все id пользователей для которых было несколько предложений\n",
    "# и потом все эти id идут просто списком в hist_columns_1, hist_columns_2, hist_columns_3, hist_columns_4\n",
    "b = get_proposal_count(XX)\n",
    "b_t = get_proposal_count(test_res)"
   ]
  },
  {
   "cell_type": "code",
   "execution_count": 128,
   "metadata": {},
   "outputs": [],
   "source": [
    "# это количество предложений. т.е. история по всем предложениям.\n",
    "hist_columns_1(b,XX)\n",
    "hist_columns_1(b_t,test_res)"
   ]
  },
  {
   "cell_type": "code",
   "execution_count": 129,
   "metadata": {},
   "outputs": [],
   "source": [
    "#это порядковый номер для одинаковых предложений для одного пользователя\n",
    "hist_columns_2(b,XX)\n",
    "hist_columns_2(b_t,test_res)"
   ]
  },
  {
   "cell_type": "code",
   "execution_count": 130,
   "metadata": {},
   "outputs": [],
   "source": [
    "# это разница по датам для одинаковых предложений\n",
    "hist_columns_3(b,XX)\n",
    "hist_columns_3(b_t,test_res)"
   ]
  },
  {
   "cell_type": "code",
   "execution_count": 131,
   "metadata": {},
   "outputs": [],
   "source": [
    "# разница между всеми предложениями для одного клиента\n",
    "hist_columns_4(b,XX)\n",
    "hist_columns_4(b_t,test_res)"
   ]
  },
  {
   "cell_type": "code",
   "execution_count": 132,
   "metadata": {},
   "outputs": [],
   "source": [
    "# определили тип столбцов, разбили на соответствующие группы\n",
    "f_const, f_binary, f_categorical, f_str, f_numeric, f_other = columns_type(XX)\n",
    "f_dummy = set()"
   ]
  },
  {
   "cell_type": "code",
   "execution_count": 155,
   "metadata": {},
   "outputs": [],
   "source": [
    "# обработка столбцов - константы и бинарные\n",
    "prepare_columns_1(XX, f_const, f_binary, f_categorical) \n",
    "prepare_columns_1(test_res, f_const, f_binary, f_categorical) "
   ]
  },
  {
   "cell_type": "code",
   "execution_count": 156,
   "metadata": {},
   "outputs": [],
   "source": [
    "# обработка столбцов - dummy-кодирование для категориальных переменных\n",
    "enc_df = prepare_columns_2(XX, f_categorical) \n",
    "XX = XX.join(enc_df)\n",
    "f_dummy = enc_df.columns\n",
    "\n",
    "enc_df = prepare_columns_2(test_res, f_categorical) \n",
    "test_res = test_res.join(enc_df)"
   ]
  },
  {
   "cell_type": "code",
   "execution_count": 157,
   "metadata": {},
   "outputs": [],
   "source": [
    "# логарифмирование строго для числовых столбцов\n",
    "prepare_columns_4(XX, f_numeric)\n",
    "prepare_columns_4(test_res, f_numeric)"
   ]
  },
  {
   "cell_type": "code",
   "execution_count": 159,
   "metadata": {},
   "outputs": [],
   "source": [
    "# делаем pca преобразование для числовых столбцов. уменьшаем размерность до 25 столбцов\n",
    "XP25 = make_pca_25(XX,f_numeric)\n",
    "f_numeric_25 = list(XP25.columns)\n",
    "XP25 = update_pca(XX,XP25,f_binary,f_categorical,f_other,f_dummy)\n",
    "\n",
    "XP25_t = make_pca_25(test_res,f_numeric)\n",
    "XP25_t = update_pca(test_res,XP25_t,f_binary,f_categorical,f_other,f_dummy)"
   ]
  },
  {
   "cell_type": "code",
   "execution_count": 160,
   "metadata": {},
   "outputs": [
    {
     "data": {
      "text/plain": [
       "KMeans(algorithm='auto', copy_x=True, init='k-means++', max_iter=300,\n",
       "       n_clusters=3, n_init=10, n_jobs=-1, precompute_distances=True,\n",
       "       random_state=None, tol=0.0001, verbose=0)"
      ]
     },
     "execution_count": 160,
     "metadata": {},
     "output_type": "execute_result"
    }
   ],
   "source": [
    "# разбиваем на группы по числовым столбцам. 15, 7 и 3 группы\n",
    "k15 = KMeans(n_clusters=15, precompute_distances = True, n_jobs=-1)\n",
    "k15.fit(XP25[list(f_numeric_25)])\n",
    "k7 = KMeans(n_clusters=7, precompute_distances = True, n_jobs=-1)\n",
    "k7.fit(XP25[list(f_numeric_25)])\n",
    "k3 = KMeans(n_clusters=3, precompute_distances = True, n_jobs=-1)\n",
    "k3.fit(XP25[list(f_numeric_25)])"
   ]
  },
  {
   "cell_type": "code",
   "execution_count": 161,
   "metadata": {},
   "outputs": [],
   "source": [
    "# разбили на группы\n",
    "km = pd.DataFrame(np.hstack((k15.predict(XP25[list(f_numeric_25)])[None].T, k7.predict(XP25[list(f_numeric_25)])[None].T, k3.predict(XP25[list(f_numeric_25)])[None].T)))\n",
    "km.columns = ['km15','km7','km3']\n",
    "\n",
    "# добавили столбцы с группами в датасет\n",
    "XP25 = XP25.join(km)\n",
    "\n",
    "# разбили на группы\n",
    "km = pd.DataFrame(np.hstack((k15.predict(XP25_t[list(f_numeric_25)])[None].T, k7.predict(XP25_t[list(f_numeric_25)])[None].T, k3.predict(XP25_t[list(f_numeric_25)])[None].T)))\n",
    "km.columns = ['km15','km7','km3']\n",
    "\n",
    "# добавили столбцы с группами в датасет\n",
    "XP25_t = XP25_t.join(km)"
   ]
  },
  {
   "cell_type": "code",
   "execution_count": 163,
   "metadata": {},
   "outputs": [],
   "source": [
    "# сделали дамми кодирование для новых групп\n",
    "enc_df = prepare_kmeans(XP25)\n",
    "XP25 = XP25.join(enc_df) # добавили столбцы\n",
    "\n",
    "# добавили новые столбцы в соответствующие списки категорий столбцов\n",
    "f_categorical = f_categorical | {'km15','km7','km3'}\n",
    "f_dummy = enc_df.columns | f_dummy\n",
    "\n",
    "# сделали дамми кодирование для новых групп\n",
    "enc_df = prepare_kmeans(XP25_t)\n",
    "XP25_t = XP25_t.join(enc_df) # добавили столбцы"
   ]
  },
  {
   "cell_type": "markdown",
   "metadata": {},
   "source": [
    "## Модели"
   ]
  },
  {
   "cell_type": "code",
   "execution_count": 423,
   "metadata": {},
   "outputs": [],
   "source": [
    "# удаляю категорийные, поскольку я их перекодировала в dummy\n",
    "x_xg = XP25.drop(list(f_categorical),axis=1) \n",
    "x_xg_t = XP25_t.drop(list(f_categorical),axis=1) \n",
    "\n",
    "# разбили на группы. датасет настолько огромный, что я делю пополам\n",
    "X_train_balanced_xg, y_train_balanced, X_test_xg, y_test,X_test_res = minmax_scale(x_xg,yy,x_xg_t,f_numeric_25)"
   ]
  },
  {
   "cell_type": "code",
   "execution_count": 449,
   "metadata": {},
   "outputs": [
    {
     "name": "stdout",
     "output_type": "stream",
     "text": [
      "\n",
      "\n",
      "XGBOOST\n",
      "\n",
      "\n",
      "TRAIN\n",
      "\n",
      "              precision    recall  f1-score   support\n",
      "\n",
      "         0.0       0.96      0.95      0.95    385733\n",
      "         1.0       0.84      0.88      0.86    124747\n",
      "\n",
      "    accuracy                           0.93    510480\n",
      "   macro avg       0.90      0.91      0.91    510480\n",
      "weighted avg       0.93      0.93      0.93    510480\n",
      "\n",
      "\n",
      "\n",
      "CONFUSION MATRIX TRAIN\n",
      "\n",
      "\n",
      "col_0      0.0     1.0\n",
      "target                \n",
      "0.0     365577   20156\n",
      "1.0      15430  109317\n",
      "\n",
      "\n",
      "TEST\n",
      "\n",
      "              precision    recall  f1-score   support\n",
      "\n",
      "         0.0       0.98      0.95      0.96    385734\n",
      "         1.0       0.52      0.71      0.60     30093\n",
      "\n",
      "    accuracy                           0.93    415827\n",
      "   macro avg       0.75      0.83      0.78    415827\n",
      "weighted avg       0.94      0.93      0.94    415827\n",
      "\n",
      "\n",
      "\n",
      "CONFUSION MATRIX TEST\n",
      "\n",
      "\n",
      "col_0      0.0    1.0\n",
      "target               \n",
      "0.0     365853  19881\n",
      "1.0       8607  21486\n"
     ]
    }
   ],
   "source": [
    "# построение моделей и вывод результата\n",
    "print(\"\\n\\nXGBOOST\\n\\n\")\n",
    "clf1,y_train_pred_xg,y_test_pred_xg,y_test_pred_probas_xg = xgboost_predict(X_train_balanced_xg, y_train_balanced,X_test_xg, y_test)"
   ]
  },
  {
   "cell_type": "code",
   "execution_count": 450,
   "metadata": {},
   "outputs": [
    {
     "name": "stdout",
     "output_type": "stream",
     "text": [
      "Для XGBoost\n",
      "Precision: 0.5186399016796395\n",
      "Recall: 0.7151829329079853\n",
      "F1: 0.6012571588210643\n",
      "Log Loss: 0.1449411202700627\n",
      "ROC AUC: 0.9506665024759771\n"
     ]
    }
   ],
   "source": [
    "print('Для XGBoost')\n",
    "evaluation(y_test, y_test_pred_xg_1, y_test_pred_probas_xg_1)"
   ]
  },
  {
   "cell_type": "code",
   "execution_count": 451,
   "metadata": {},
   "outputs": [
    {
     "name": "stdout",
     "output_type": "stream",
     "text": [
      "\n",
      "\n",
      "LGBM\n",
      "\n",
      "\n",
      "TRAIN\n",
      "\n",
      "              precision    recall  f1-score   support\n",
      "\n",
      "         0.0       0.96      0.96      0.96    385733\n",
      "         1.0       0.86      0.87      0.86    124747\n",
      "\n",
      "    accuracy                           0.93    510480\n",
      "   macro avg       0.91      0.91      0.91    510480\n",
      "weighted avg       0.93      0.93      0.93    510480\n",
      "\n",
      "\n",
      "\n",
      "CONFUSION MATRIX TRAIN\n",
      "\n",
      "\n",
      "col_0      0.0     1.0\n",
      "target                \n",
      "0.0     368378   17355\n",
      "1.0      16615  108132\n",
      "\n",
      "\n",
      "TEST\n",
      "\n",
      "              precision    recall  f1-score   support\n",
      "\n",
      "         0.0       0.97      0.96      0.96    385734\n",
      "         1.0       0.54      0.67      0.60     30093\n",
      "\n",
      "    accuracy                           0.93    415827\n",
      "   macro avg       0.76      0.81      0.78    415827\n",
      "weighted avg       0.94      0.93      0.94    415827\n",
      "\n",
      "\n",
      "\n",
      "CONFUSION MATRIX TEST\n",
      "\n",
      "\n",
      "col_0      0.0    1.0\n",
      "target               \n",
      "0.0     368624  17110\n",
      "1.0       9973  20120\n"
     ]
    }
   ],
   "source": [
    "print(\"\\n\\nLGBM\\n\\n\")\n",
    "clf2,y_train_pred_lg,y_test_pred_lg,y_test_pred_probas_lg = lgbm_predict(X_train_balanced_xg, y_train_balanced,X_test_xg, y_test)"
   ]
  },
  {
   "cell_type": "code",
   "execution_count": 452,
   "metadata": {},
   "outputs": [
    {
     "name": "stdout",
     "output_type": "stream",
     "text": [
      "Для LightGBM\n",
      "Precision: 0.5404243889336556\n",
      "Recall: 0.668594025188582\n",
      "F1: 0.5977154909911916\n",
      "Log Loss: 0.141163627793714\n",
      "ROC AUC: 0.9490704204754083\n"
     ]
    }
   ],
   "source": [
    "print('Для LightGBM')\n",
    "evaluation(y_test, y_test_pred_lg, y_test_pred_probas_lg)"
   ]
  },
  {
   "cell_type": "markdown",
   "metadata": {},
   "source": [
    "В  целом модели работаю примерно одинаково. У LightGBM выше Precision, но ниже Recall и чуть ниже F1. Выберу XGBoost"
   ]
  },
  {
   "cell_type": "code",
   "execution_count": 453,
   "metadata": {},
   "outputs": [
    {
     "data": {
      "image/png": "[encoded data removed]",
      "text/plain": [
       "<Figure size 1152x432 with 1 Axes>"
      ]
     },
     "metadata": {
      "needs_background": "light"
     },
     "output_type": "display_data"
    },
    {
     "name": "stdout",
     "output_type": "stream",
     "text": [
      "TRAIN\n",
      "\n",
      "              precision    recall  f1-score   support\n",
      "\n",
      "         0.0       0.96      0.95      0.95    385733\n",
      "         1.0       0.84      0.88      0.86    124747\n",
      "\n",
      "    accuracy                           0.93    510480\n",
      "   macro avg       0.90      0.91      0.91    510480\n",
      "weighted avg       0.93      0.93      0.93    510480\n",
      "\n",
      "\n",
      "\n",
      "CONFUSION MATRIX TRAIN\n",
      "\n",
      "\n",
      "col_0      0.0     1.0\n",
      "target                \n",
      "0.0     365425   20308\n",
      "1.0      15431  109316\n",
      "\n",
      "\n",
      "TEST\n",
      "\n",
      "              precision    recall  f1-score   support\n",
      "\n",
      "         0.0       0.98      0.95      0.96    385734\n",
      "         1.0       0.52      0.72      0.60     30093\n",
      "\n",
      "    accuracy                           0.93    415827\n",
      "   macro avg       0.75      0.83      0.78    415827\n",
      "weighted avg       0.94      0.93      0.94    415827\n",
      "\n",
      "\n",
      "\n",
      "CONFUSION MATRIX TEST\n",
      "\n",
      "\n",
      "col_0      0.0    1.0\n",
      "target               \n",
      "0.0     365759  19975\n",
      "1.0       8571  21522\n"
     ]
    }
   ],
   "source": [
    "n=32\n",
    "feature_importance = plot_importance(clf1.feature_importances_, X_train_balanced_xg.columns, 'Features Importance', n)\n",
    "\n",
    "# перестроили модель с наилучшими столбцами\n",
    "X_train_FI = pd.DataFrame(X_train_balanced_xg, columns=X_train_balanced_xg.columns)[feature_importance[0][:n]]\n",
    "X_test_FI = pd.DataFrame(X_test_xg, columns=X_test_xg.columns)[feature_importance[0][:n]]\n",
    "\n",
    "\n",
    "clf3,y_train_pred_xg_1,y_test_pred_xg_1,y_test_pred_probas_xg_1 = xgboost_predict(X_train_FI, y_train_balanced,X_test_FI, y_test)"
   ]
  },
  {
   "cell_type": "code",
   "execution_count": 454,
   "metadata": {},
   "outputs": [
    {
     "name": "stdout",
     "output_type": "stream",
     "text": [
      "Precision: 0.5186399016796395\n",
      "Recall: 0.7151829329079853\n",
      "F1: 0.6012571588210643\n",
      "Log Loss: 0.1449411202700627\n",
      "ROC AUC: 0.9506665024759771\n"
     ]
    }
   ],
   "source": [
    "evaluation(y_test, y_test_pred_xg_1, y_test_pred_probas_xg_1)"
   ]
  },
  {
   "cell_type": "markdown",
   "metadata": {},
   "source": [
    "## Сравнение моделей"
   ]
  },
  {
   "cell_type": "code",
   "execution_count": 444,
   "metadata": {},
   "outputs": [
    {
     "name": "stdout",
     "output_type": "stream",
     "text": [
      "y_test_pred_xg: AUC_PR = 0.683\n",
      "y_test_pred_xg: AUC_ROC = 0.951\n"
     ]
    },
    {
     "data": {
      "image/png": "[encoded data removed]",
      "text/plain": [
       "<Figure size 504x1080 with 2 Axes>"
      ]
     },
     "metadata": {
      "needs_background": "light"
     },
     "output_type": "display_data"
    }
   ],
   "source": [
    "f, (ax1, ax2) = plt.subplots(1, 2, sharey=True)\n",
    "\n",
    "f.set_figheight(15)\n",
    "f.set_figwidth(7)\n",
    "\n",
    "ax1 = plt.subplot(211)\n",
    "ax1.set_title('ROC')\n",
    "ax1.set_xlabel('TPR')\n",
    "ax1.set_ylabel('FPR')\n",
    "\n",
    "\n",
    "ax2 = plt.subplot(212)\n",
    "ax2.set_title('PR')\n",
    "ax2.set_xlabel('Recall')\n",
    "ax2.set_ylabel('Precision')\n",
    "\n",
    "ax1.plot([0, 1], [0, 1], 'k--')\n",
    "\n",
    "\n",
    "fpr, tpr, roc_thresholds = roc_curve(y_test, y_test_pred_probas_xg_1)\n",
    "precision, recall, pr_thresholds = precision_recall_curve(y_test, y_test_pred_probas_xg_1)\n",
    "ax1.plot(fpr, tpr, label=\"xgboost\", color='r')\n",
    "ax2.plot(recall, precision, label=\"xgboost\", color='b')\n",
    "print(\"y_test_pred_xg: AUC_PR = %.3f\" % auc(recall, precision))\n",
    "print(\"y_test_pred_xg: AUC_ROC = %.3f\" % auc(fpr, tpr))"
   ]
  },
  {
   "cell_type": "code",
   "execution_count": 390,
   "metadata": {},
   "outputs": [
    {
     "name": "stdout",
     "output_type": "stream",
     "text": [
      "y_test_pred_lg: AUC_PR = 0.676\n",
      "y_test_pred_lg: AUC_ROC = 0.949\n"
     ]
    },
    {
     "data": {
      "image/png": "[encoded data removed]",
      "text/plain": [
       "<Figure size 504x1080 with 2 Axes>"
      ]
     },
     "metadata": {
      "needs_background": "light"
     },
     "output_type": "display_data"
    }
   ],
   "source": [
    "f, (ax1, ax2) = plt.subplots(1, 2, sharey=True)\n",
    "\n",
    "f.set_figheight(15)\n",
    "f.set_figwidth(7)\n",
    "\n",
    "ax1 = plt.subplot(211)\n",
    "ax1.set_title('ROC')\n",
    "ax1.set_xlabel('TPR')\n",
    "ax1.set_ylabel('FPR')\n",
    "\n",
    "\n",
    "ax2 = plt.subplot(212)\n",
    "ax2.set_title('PR')\n",
    "ax2.set_xlabel('Recall')\n",
    "ax2.set_ylabel('Precision')\n",
    "\n",
    "ax1.plot([0, 1], [0, 1], 'k--')\n",
    "\n",
    "\n",
    "fpr, tpr, roc_thresholds = roc_curve(y_test, y_test_pred_probas_lg)\n",
    "precision, recall, pr_thresholds = precision_recall_curve(y_test, y_test_pred_probas_lg)\n",
    "ax1.plot(fpr, tpr, label=\"lightgbm\", color='r')\n",
    "ax2.plot(recall, precision, label=\"lightgbm\", color='b')\n",
    "print(\"y_test_pred_lg: AUC_PR = %.3f\" % auc(recall, precision))\n",
    "print(\"y_test_pred_lg: AUC_ROC = %.3f\" % auc(fpr, tpr))\n",
    "ax1.legend(loc=\"lower right\")\n",
    "ax2.legend(loc=\"lower right\");"
   ]
  },
  {
   "cell_type": "code",
   "execution_count": 445,
   "metadata": {},
   "outputs": [
    {
     "name": "stdout",
     "output_type": "stream",
     "text": [
      "y_test_pred_xg: AUC_PR = 0.683\n",
      "y_test_pred_xg: AUC_ROC = 0.951\n",
      "y_test_pred_lg: AUC_PR = 0.676\n",
      "y_test_pred_lg: AUC_ROC = 0.949\n"
     ]
    },
    {
     "data": {
      "image/png": "[encoded data removed]",
      "text/plain": [
       "<Figure size 504x1080 with 2 Axes>"
      ]
     },
     "metadata": {
      "needs_background": "light"
     },
     "output_type": "display_data"
    }
   ],
   "source": [
    "f, (ax1, ax2) = plt.subplots(1, 2, sharey=True)\n",
    "\n",
    "f.set_figheight(15)\n",
    "f.set_figwidth(7)\n",
    "\n",
    "ax1 = plt.subplot(211)\n",
    "ax1.set_title('ROC')\n",
    "ax1.set_xlabel('TPR')\n",
    "ax1.set_ylabel('FPR')\n",
    "\n",
    "\n",
    "ax2 = plt.subplot(212)\n",
    "ax2.set_title('PR')\n",
    "ax2.set_xlabel('Recall')\n",
    "ax2.set_ylabel('Precision')\n",
    "\n",
    "ax1.plot([0, 1], [0, 1], 'k--')\n",
    "\n",
    "fpr, tpr, roc_thresholds = roc_curve(y_test, y_test_pred_probas_xg_1)\n",
    "precision, recall, pr_thresholds = precision_recall_curve(y_test, y_test_pred_probas_xg_1)\n",
    "ax1.plot(fpr, tpr, label=\"xgboost\", color='r')\n",
    "ax2.plot(recall, precision, label=\"xgboost\", color='b')\n",
    "print(\"y_test_pred_xg: AUC_PR = %.3f\" % auc(recall, precision))\n",
    "print(\"y_test_pred_xg: AUC_ROC = %.3f\" % auc(fpr, tpr))\n",
    "\n",
    "\n",
    "fpr, tpr, roc_thresholds = roc_curve(y_test, y_test_pred_probas_lg)\n",
    "precision, recall, pr_thresholds = precision_recall_curve(y_test, y_test_pred_probas_lg)\n",
    "ax1.plot(fpr, tpr, label=\"lightgbm\", color='b')\n",
    "ax2.plot(recall, precision, label=\"lightgbm\", color='r')\n",
    "print(\"y_test_pred_lg: AUC_PR = %.3f\" % auc(recall, precision))\n",
    "print(\"y_test_pred_lg: AUC_ROC = %.3f\" % auc(fpr, tpr))\n",
    "ax1.legend(loc=\"lower right\")\n",
    "ax2.legend(loc=\"lower right\");"
   ]
  },
  {
   "cell_type": "markdown",
   "metadata": {},
   "source": [
    "## предсказание результата"
   ]
  },
  {
   "cell_type": "code",
   "execution_count": 456,
   "metadata": {},
   "outputs": [],
   "source": [
    "# n определено выше n=32\n",
    "X_test_res_FI = pd.DataFrame(X_test_res, columns=X_test_res.columns)[feature_importance[0][:n]]"
   ]
  },
  {
   "cell_type": "code",
   "execution_count": 457,
   "metadata": {},
   "outputs": [],
   "source": [
    "predict_test = clf3.predict(X_test_res_FI)\n",
    "predict_proba_test = clf3.predict_proba(X_test_res_FI)"
   ]
  },
  {
   "cell_type": "code",
   "execution_count": 458,
   "metadata": {},
   "outputs": [],
   "source": [
    "# buy_time, id, vas_id и target\n",
    "# Target можно записать как вероятность подключения услуги.\n",
    "result = pd.concat([test_res['buy_time'],test_res['id'],test_res['vas_id'], pd.Series(predict_proba_test[:,1])], axis=1)"
   ]
  },
  {
   "cell_type": "code",
   "execution_count": 461,
   "metadata": {},
   "outputs": [],
   "source": [
    "result = result.rename(columns={0: 'target'})"
   ]
  },
  {
   "cell_type": "code",
   "execution_count": 462,
   "metadata": {},
   "outputs": [
    {
     "data": {
      "text/html": [
       "<div>\n",
       "<style scoped>\n",
       "    .dataframe tbody tr th:only-of-type {\n",
       "        vertical-align: middle;\n",
       "    }\n",
       "\n",
       "    .dataframe tbody tr th {\n",
       "        vertical-align: top;\n",
       "    }\n",
       "\n",
       "    .dataframe thead th {\n",
       "        text-align: right;\n",
       "    }\n",
       "</style>\n",
       "<table border=\"1\" class=\"dataframe\">\n",
       "  <thead>\n",
       "    <tr style=\"text-align: right;\">\n",
       "      <th></th>\n",
       "      <th>buy_time</th>\n",
       "      <th>id</th>\n",
       "      <th>vas_id</th>\n",
       "      <th>target</th>\n",
       "    </tr>\n",
       "  </thead>\n",
       "  <tbody>\n",
       "    <tr>\n",
       "      <th>0</th>\n",
       "      <td>1548018000</td>\n",
       "      <td>3130519</td>\n",
       "      <td>2.0</td>\n",
       "      <td>0.541791</td>\n",
       "    </tr>\n",
       "    <tr>\n",
       "      <th>1</th>\n",
       "      <td>1548018000</td>\n",
       "      <td>2000860</td>\n",
       "      <td>4.0</td>\n",
       "      <td>0.640327</td>\n",
       "    </tr>\n",
       "    <tr>\n",
       "      <th>2</th>\n",
       "      <td>1546808400</td>\n",
       "      <td>1099444</td>\n",
       "      <td>2.0</td>\n",
       "      <td>0.677449</td>\n",
       "    </tr>\n",
       "    <tr>\n",
       "      <th>3</th>\n",
       "      <td>1547413200</td>\n",
       "      <td>1343255</td>\n",
       "      <td>5.0</td>\n",
       "      <td>0.026890</td>\n",
       "    </tr>\n",
       "    <tr>\n",
       "      <th>4</th>\n",
       "      <td>1546808400</td>\n",
       "      <td>1277040</td>\n",
       "      <td>2.0</td>\n",
       "      <td>0.592477</td>\n",
       "    </tr>\n",
       "  </tbody>\n",
       "</table>\n",
       "</div>"
      ],
      "text/plain": [
       "     buy_time       id  vas_id    target\n",
       "0  1548018000  3130519     2.0  0.541791\n",
       "1  1548018000  2000860     4.0  0.640327\n",
       "2  1546808400  1099444     2.0  0.677449\n",
       "3  1547413200  1343255     5.0  0.026890\n",
       "4  1546808400  1277040     2.0  0.592477"
      ]
     },
     "execution_count": 462,
     "metadata": {},
     "output_type": "execute_result"
    }
   ],
   "source": [
    "result.head()"
   ]
  },
  {
   "cell_type": "code",
   "execution_count": 463,
   "metadata": {},
   "outputs": [],
   "source": [
    "result.to_csv('IMarchenko_predictions_05.06.csv',index=None)"
   ]
  },
  {
   "cell_type": "markdown",
   "metadata": {},
   "source": [
    "## Сохраниение модели"
   ]
  },
  {
   "cell_type": "code",
   "execution_count": 465,
   "metadata": {},
   "outputs": [],
   "source": [
    "filename = 'final_model.sav'\n",
    "pickle.dump(clf3, open(filename, 'wb'))\n"
   ]
  },
  {
   "cell_type": "code",
   "execution_count": null,
   "metadata": {},
   "outputs": [],
   "source": []
  },
  {
   "cell_type": "code",
   "execution_count": null,
   "metadata": {},
   "outputs": [],
   "source": [
    "\n",
    "\n"
   ]
  },
  {
   "cell_type": "code",
   "execution_count": null,
   "metadata": {},
   "outputs": [],
   "source": []
  },
  {
   "cell_type": "code",
   "execution_count": null,
   "metadata": {},
   "outputs": [],
   "source": []
  }
 ],
 "metadata": {
  "kernelspec": {
   "display_name": "Python 3",
   "language": "python",
   "name": "python3"
  },
  "language_info": {
   "codemirror_mode": {
    "name": "ipython",
    "version": 3
   },
   "file_extension": ".py",
   "mimetype": "text/x-python",
   "name": "python",
   "nbconvert_exporter": "python",
   "pygments_lexer": "ipython3",
   "version": "3.7.3"
  }
 },
 "nbformat": 4,
 "nbformat_minor": 2
}
